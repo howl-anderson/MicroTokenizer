{
 "cells": [
  {
   "cell_type": "markdown",
   "metadata": {},
   "source": [
    "# 安装 MicroTokenizer"
   ]
  },
  {
   "cell_type": "code",
   "execution_count": 1,
   "metadata": {
    "scrolled": true
   },
   "outputs": [
    {
     "name": "stdout",
     "output_type": "stream",
     "text": [
      "Collecting MicroTokenizer\n",
      "\u001B[?25l  Downloading https://files.pythonhosted.org/packages/21/97/918a67c5e774d4cae888ae9b342cc37bafd3a1730d00db98e1ee21ef8f23/MicroTokenizer-0.1.0-py2.py3-none-any.whl (4.0MB)\n",
      "\u001B[K    100% |████████████████████████████████| 4.0MB 515kB/s ta 0:00:011    84% |███████████████████████████     | 3.4MB 6.9MB/s eta 0:00:01\n",
      "\u001B[?25hCollecting networkx>=2.1 (from MicroTokenizer)\n",
      "\u001B[?25l  Downloading https://files.pythonhosted.org/packages/11/42/f951cc6838a4dff6ce57211c4d7f8444809ccbe2134179950301e5c4c83c/networkx-2.1.zip (1.6MB)\n",
      "\u001B[K    100% |████████████████████████████████| 1.6MB 6.5MB/s eta 0:00:01\n",
      "\u001B[?25hCollecting MicroHMM (from MicroTokenizer)\n",
      "  Downloading https://files.pythonhosted.org/packages/a8/ca/ec2c487ee74f1f5ff41101efed7f7a21aa1769a6fc9501b587ce36b8f9e7/MicroHMM-0.1-py3-none-any.whl\n",
      "Requirement already satisfied: tqdm in /home/nbuser/anaconda3_501/lib/python3.6/site-packages (from MicroTokenizer) (4.23.4)\n",
      "Requirement already satisfied: matplotlib in /home/nbuser/anaconda3_501/lib/python3.6/site-packages (from MicroTokenizer) (2.1.1)\n",
      "Requirement already satisfied: Click>=6.0 in /home/nbuser/anaconda3_501/lib/python3.6/site-packages (from MicroTokenizer) (6.7)\n",
      "Requirement already satisfied: decorator>=4.1.0 in /home/nbuser/anaconda3_501/lib/python3.6/site-packages (from networkx>=2.1->MicroTokenizer) (4.1.2)\n",
      "Requirement already satisfied: numpy>=1.7.1 in /home/nbuser/anaconda3_501/lib/python3.6/site-packages (from matplotlib->MicroTokenizer) (1.14.5)\n",
      "Requirement already satisfied: six>=1.10 in /home/nbuser/anaconda3_501/lib/python3.6/site-packages (from matplotlib->MicroTokenizer) (1.11.0)\n",
      "Requirement already satisfied: python-dateutil>=2.0 in /home/nbuser/anaconda3_501/lib/python3.6/site-packages (from matplotlib->MicroTokenizer) (2.6.1)\n",
      "Requirement already satisfied: pytz in /home/nbuser/anaconda3_501/lib/python3.6/site-packages (from matplotlib->MicroTokenizer) (2017.2)\n",
      "Requirement already satisfied: cycler>=0.10 in /home/nbuser/anaconda3_501/lib/python3.6/site-packages (from matplotlib->MicroTokenizer) (0.10.0)\n",
      "Requirement already satisfied: pyparsing!=2.0.4,!=2.1.2,!=2.1.6,>=2.0.1 in /home/nbuser/anaconda3_501/lib/python3.6/site-packages (from matplotlib->MicroTokenizer) (2.2.0)\n",
      "Building wheels for collected packages: networkx\n",
      "  Running setup.py bdist_wheel for networkx ... \u001B[?25ldone\n",
      "\u001B[?25h  Stored in directory: /home/nbuser/.cache/pip/wheels/44/c0/34/6f98693a554301bdb405f8d65d95bbcd3e50180cbfdd98a94e\n",
      "Successfully built networkx\n",
      "Installing collected packages: networkx, MicroHMM, MicroTokenizer\n",
      "  Found existing installation: networkx 1.11\n",
      "    Uninstalling networkx-1.11:\n",
      "      Successfully uninstalled networkx-1.11\n",
      "Successfully installed MicroHMM-0.1 MicroTokenizer-0.1.0 networkx-2.1\n"
     ]
    }
   ],
   "source": [
    "!pip install MicroTokenizer"
   ]
  },
  {
   "cell_type": "markdown",
   "metadata": {},
   "source": [
    "# 导入包（同时会加载字典）"
   ]
  },
  {
   "cell_type": "code",
   "execution_count": 2,
   "metadata": {},
   "outputs": [],
   "source": [
    "import MicroTokenizer"
   ]
  },
  {
   "cell_type": "markdown",
   "metadata": {},
   "source": [
    "# 使用 DAG 分词算法 (当前默认)"
   ]
  },
  {
   "cell_type": "code",
   "execution_count": 3,
   "metadata": {},
   "outputs": [
    {
     "name": "stderr",
     "output_type": "stream",
     "text": [
      "/home/nbuser/anaconda3_501/lib/python3.6/site-packages/matplotlib/font_manager.py:281: UserWarning: Matplotlib is building the font cache using fc-list. This may take a moment.\n",
      "  'Matplotlib is building the font cache using fc-list. '\n"
     ]
    },
    {
     "name": "stdout",
     "output_type": "stream",
     "text": [
      "['知识', '就是', '力量']\n"
     ]
    }
   ],
   "source": [
    "tokens = MicroTokenizer.cut(\"知识就是力量\")  # or tokens = MicroTokenizer.cut_by_DAG(\"知识就是力量\")\n",
    "print(tokens)"
   ]
  },
  {
   "cell_type": "code",
   "execution_count": 4,
   "metadata": {},
   "outputs": [
    {
     "name": "stdout",
     "output_type": "stream",
     "text": [
      "['王小明', '在', '北京', '的', '清华大学', '读书']\n"
     ]
    }
   ],
   "source": [
    "tokens = MicroTokenizer.cut(\"王小明在北京的清华大学读书\")\n",
    "print(tokens)"
   ]
  },
  {
   "cell_type": "markdown",
   "metadata": {},
   "source": [
    "# 使用 HMM 分词算法"
   ]
  },
  {
   "cell_type": "code",
   "execution_count": 5,
   "metadata": {},
   "outputs": [
    {
     "name": "stdout",
     "output_type": "stream",
     "text": [
      "['知识', '就', '是', '力', '量']\n"
     ]
    }
   ],
   "source": [
    "from MicroTokenizer import hmm_tokenizer\n",
    "tokens = hmm_tokenizer.segment(\"知识就是力量\")\n",
    "print(tokens)"
   ]
  },
  {
   "cell_type": "code",
   "execution_count": 6,
   "metadata": {},
   "outputs": [
    {
     "name": "stdout",
     "output_type": "stream",
     "text": [
      "['王', '小明', '在', '北京', '的', '清华大学', '读', '书']\n"
     ]
    }
   ],
   "source": [
    "tokens = hmm_tokenizer.segment(\"王小明在北京的清华大学读书\")\n",
    "print(tokens)"
   ]
  },
  {
   "cell_type": "markdown",
   "metadata": {},
   "source": [
    "# 使用自定义字典"
   ]
  },
  {
   "cell_type": "code",
   "execution_count": 3,
   "metadata": {},
   "outputs": [
    {
     "name": "stdout",
     "output_type": "stream",
     "text": [
      "['「', '杭', '研', '」', '正确', '应该', '不', '会', '被', '切', '开']\n"
     ]
    }
   ],
   "source": [
    "tokens = MicroTokenizer.cut(\"「杭研」正确应该不会被切开\", HMM=False)\n",
    "print(tokens)"
   ]
  },
  {
   "cell_type": "code",
   "execution_count": 6,
   "metadata": {},
   "outputs": [],
   "source": [
    "# loading user's custom dictionary file\n",
    "MicroTokenizer.load_userdict('user_dict.txt')"
   ]
  },
  {
   "cell_type": "code",
   "execution_count": 7,
   "metadata": {},
   "outputs": [
    {
     "name": "stdout",
     "output_type": "stream",
     "text": [
      "['「', '杭研', '」', '正确', '应该', '不', '会', '被', '切', '开']\n"
     ]
    }
   ],
   "source": [
    "tokens = MicroTokenizer.cut(\"「杭研」正确应该不会被切开\", HMM=False)\n",
    "print(tokens)"
   ]
  },
  {
   "cell_type": "markdown",
   "metadata": {},
   "source": [
    "user_dict.txt 的内容为："
   ]
  },
  {
   "cell_type": "code",
   "execution_count": 8,
   "metadata": {},
   "outputs": [
    {
     "name": "stdout",
     "output_type": "stream",
     "text": [
      "杭研 10"
     ]
    }
   ],
   "source": [
    "!cat user_dict.txt"
   ]
  },
  {
   "cell_type": "code",
   "execution_count": null,
   "metadata": {},
   "outputs": [],
   "source": []
  }
 ],
 "metadata": {
  "kernelspec": {
   "display_name": "Python 3",
   "language": "python",
   "name": "python3"
  },
  "language_info": {
   "codemirror_mode": {
    "name": "ipython",
    "version": 3
   },
   "file_extension": ".py",
   "mimetype": "text/x-python",
   "name": "python",
   "nbconvert_exporter": "python",
   "pygments_lexer": "ipython3",
   "version": "3.6.9"
  }
 },
 "nbformat": 4,
 "nbformat_minor": 2
}