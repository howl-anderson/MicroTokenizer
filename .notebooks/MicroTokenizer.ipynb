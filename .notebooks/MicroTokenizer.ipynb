{
 "cells": [
  {
   "cell_type": "markdown",
   "metadata": {},
   "source": [
    "# 安装 MicroTokenizer"
   ]
  },
  {
   "cell_type": "code",
   "execution_count": 1,
   "metadata": {
    "scrolled": true
   },
   "outputs": [
    {
     "name": "stdout",
     "output_type": "stream",
     "text": [
      "\u001B[33mWARNING: You are using pip version 20.1.1; however, version 21.1.3 is available.\r\n",
      "You should consider upgrading via the '/home/howl/PycharmProjects/MicroTokenizer/.direnv/python-3.7.11/bin/python -m pip install --upgrade pip' command.\u001B[0m\r\n"
     ]
    }
   ],
   "source": [
    "!pip install -q MicroTokenizer"
   ]
  },
  {
   "cell_type": "markdown",
   "metadata": {},
   "source": [
    "# 导入包（同时会加载字典）"
   ]
  },
  {
   "cell_type": "code",
   "execution_count": 2,
   "metadata": {},
   "outputs": [
    {
     "data": {
      "text/plain": "'0.20.0'"
     },
     "execution_count": 2,
     "metadata": {},
     "output_type": "execute_result"
    }
   ],
   "source": [
    "import MicroTokenizer\n",
    "MicroTokenizer.__version__"
   ]
  },
  {
   "cell_type": "markdown",
   "metadata": {},
   "source": [
    "# 使用 DAG 分词算法 (当前默认)"
   ]
  },
  {
   "cell_type": "code",
   "execution_count": 3,
   "metadata": {},
   "outputs": [
    {
     "name": "stdout",
     "output_type": "stream",
     "text": [
      "['知识', '就是', '力量']\n"
     ]
    }
   ],
   "source": [
    "tokens = MicroTokenizer.cut(\"知识就是力量\")  # or tokens = MicroTokenizer.cut_by_DAG(\"知识就是力量\")\n",
    "print(tokens)"
   ]
  },
  {
   "cell_type": "code",
   "execution_count": 4,
   "metadata": {},
   "outputs": [
    {
     "name": "stdout",
     "output_type": "stream",
     "text": [
      "['王', '小明', '在', '北京', '的', '清华大学', '读书']\n"
     ]
    }
   ],
   "source": [
    "tokens = MicroTokenizer.cut(\"王小明在北京的清华大学读书\")\n",
    "print(tokens)"
   ]
  },
  {
   "cell_type": "markdown",
   "metadata": {},
   "source": [
    "# 使用 HMM 分词算法"
   ]
  },
  {
   "cell_type": "code",
   "execution_count": 5,
   "metadata": {},
   "outputs": [
    {
     "name": "stdout",
     "output_type": "stream",
     "text": [
      "['知识', '就', '是', '力量']\n"
     ]
    }
   ],
   "source": [
    "from MicroTokenizer import hmm_tokenizer\n",
    "tokens = hmm_tokenizer.segment(\"知识就是力量\")\n",
    "print(tokens)"
   ]
  },
  {
   "cell_type": "code",
   "execution_count": 6,
   "metadata": {},
   "outputs": [
    {
     "name": "stdout",
     "output_type": "stream",
     "text": [
      "['王', '小明', '在', '北京', '的', '清华', '大学', '读书']\n"
     ]
    }
   ],
   "source": [
    "tokens = hmm_tokenizer.segment(\"王小明在北京的清华大学读书\")\n",
    "print(tokens)"
   ]
  },
  {
   "cell_type": "markdown",
   "metadata": {},
   "source": [
    "# 使用自定义字典"
   ]
  },
  {
   "cell_type": "code",
   "execution_count": 7,
   "metadata": {},
   "outputs": [
    {
     "name": "stdout",
     "output_type": "stream",
     "text": [
      "['「', '杭', '研', '」', '正确', '应该', '不', '会', '被', '切', '开']\n"
     ]
    }
   ],
   "source": [
    "tokens = MicroTokenizer.cut(\"「杭研」正确应该不会被切开\", HMM=False)\n",
    "print(tokens)"
   ]
  },
  {
   "cell_type": "code",
   "execution_count": 8,
   "metadata": {},
   "outputs": [],
   "source": [
    "# loading user's custom dictionary file\n",
    "MicroTokenizer.load_userdict('user_dict.txt')"
   ]
  },
  {
   "cell_type": "code",
   "execution_count": 9,
   "metadata": {},
   "outputs": [
    {
     "name": "stdout",
     "output_type": "stream",
     "text": [
      "['「', '杭研', '」', '正确', '应该', '不', '会', '被', '切', '开']\n"
     ]
    }
   ],
   "source": [
    "tokens = MicroTokenizer.cut(\"「杭研」正确应该不会被切开\", HMM=False)\n",
    "print(tokens)"
   ]
  },
  {
   "cell_type": "markdown",
   "metadata": {},
   "source": [
    "user_dict.txt 的内容为："
   ]
  },
  {
   "cell_type": "code",
   "execution_count": 10,
   "metadata": {},
   "outputs": [
    {
     "name": "stdout",
     "output_type": "stream",
     "text": [
      "杭研 10"
     ]
    }
   ],
   "source": [
    "!cat user_dict.txt"
   ]
  },
  {
   "cell_type": "code",
   "execution_count": 10,
   "metadata": {},
   "outputs": [],
   "source": []
  }
 ],
 "metadata": {
  "kernelspec": {
   "display_name": "Python 3",
   "language": "python",
   "name": "python3"
  },
  "language_info": {
   "codemirror_mode": {
    "name": "ipython",
    "version": 3
   },
   "file_extension": ".py",
   "mimetype": "text/x-python",
   "name": "python",
   "nbconvert_exporter": "python",
   "pygments_lexer": "ipython3",
   "version": "3.6.9"
  }
 },
 "nbformat": 4,
 "nbformat_minor": 2
}